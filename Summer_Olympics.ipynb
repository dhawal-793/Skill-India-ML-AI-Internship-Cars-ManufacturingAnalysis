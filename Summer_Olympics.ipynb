{
  "nbformat": 4,
  "nbformat_minor": 2,
  "metadata": {
    "kernelspec": {
      "display_name": "Python 2",
      "language": "python",
      "name": "python2"
    },
    "language_info": {
      "codemirror_mode": {
        "name": "ipython",
        "version": 2
      },
      "file_extension": ".py",
      "mimetype": "text/x-python",
      "name": "python",
      "nbconvert_exporter": "python",
      "pygments_lexer": "ipython2",
      "version": "2.7.16"
    },
    "colab": {
      "name": "Summer Olympics.ipynb",
      "provenance": []
    }
  },
  "cells": [
    {
      "cell_type": "markdown",
      "source": [
        "# Summer Olympics Data Analysis Assignment"
      ],
      "metadata": {
        "id": "InnWJ_CnfqMh"
      }
    },
    {
      "cell_type": "code",
      "execution_count": 23,
      "source": [
        "import pandas as pd\r\n",
        "# import numpy as np\r\n",
        "# import matplotlib.pyplot as plt"
      ],
      "outputs": [],
      "metadata": {
        "id": "XImyUpvIfqMk"
      }
    },
    {
      "cell_type": "code",
      "execution_count": 24,
      "source": [
        "df = pd.read_csv(\"summer.csv\")\r\n",
        "df.head()\r\n",
        "del df['Discipline']"
      ],
      "outputs": [],
      "metadata": {
        "id": "UtW4v7kLgggt"
      }
    },
    {
      "cell_type": "markdown",
      "source": [
        "### 1. In how many cities Summer Olympics is held so far?"
      ],
      "metadata": {
        "id": "wPhFs-n4fqMj"
      }
    },
    {
      "cell_type": "code",
      "execution_count": 27,
      "source": [
        "len(df['City'].unique())"
      ],
      "outputs": [
        {
          "output_type": "execute_result",
          "data": {
            "text/plain": [
              "22"
            ]
          },
          "metadata": {},
          "execution_count": 27
        }
      ],
      "metadata": {
        "colab": {
          "base_uri": "https://localhost:8080/"
        },
        "id": "LnrUi5AFg0fY",
        "outputId": "9c378ede-c884-4f12-c62d-a17b41e198b2"
      }
    },
    {
      "cell_type": "markdown",
      "source": [
        "### 2. Which sport is having most number of Gold Medals so far? (Top 5)"
      ],
      "metadata": {
        "id": "b1roU7u5fqMk"
      }
    },
    {
      "cell_type": "code",
      "execution_count": 28,
      "source": [
        "golds = df[df['Medal']  == 'Gold']\r\n",
        "data = []\r\n",
        "for sport in golds['Sport'].unique():\r\n",
        "  data.append([sport , len(golds[golds['Sport']==sport])])\r\n",
        "pd.DataFrame(data,columns = ['Sport','freq']).sort_values(by='freq', ascending=False).head().plot(x = 'Sport', y = 'freq', kind = 'bar', figsize = (5,5))"
      ],
      "outputs": [
        {
          "output_type": "execute_result",
          "data": {
            "text/plain": [
              "<matplotlib.axes._subplots.AxesSubplot at 0x7f09b2bde750>"
            ]
          },
          "metadata": {},
          "execution_count": 28
        },
        {
          "output_type": "display_data",
          "data": {
            "image/png": "[encoded data removed]",
            "text/plain": [
              "<Figure size 360x360 with 1 Axes>"
            ]
          },
          "metadata": {
            "needs_background": "light"
          }
        }
      ],
      "metadata": {
        "colab": {
          "base_uri": "https://localhost:8080/",
          "height": 403
        },
        "id": "JrxtdKwrxQgh",
        "outputId": "acaa4da9-1813-4fef-b15e-f348a767eb14"
      }
    },
    {
      "cell_type": "markdown",
      "source": [
        "### 3. Which sport is having most number of medals so far? (Top 5)"
      ],
      "metadata": {
        "id": "VZysyf0qfqMl"
      }
    },
    {
      "cell_type": "code",
      "execution_count": 29,
      "source": [
        "data = []\r\n",
        "for sport in df['Sport'].unique():\r\n",
        "  data.append([sport , len(df[df['Sport'] == sport])])\r\n",
        "pd.DataFrame(data,columns = ['Sport','freq']).sort_values(by='freq', ascending=False).head().plot(x = 'Sport', y = 'freq', kind = 'bar', figsize = (5,5))"
      ],
      "outputs": [
        {
          "output_type": "execute_result",
          "data": {
            "text/plain": [
              "<matplotlib.axes._subplots.AxesSubplot at 0x7f09b2b25950>"
            ]
          },
          "metadata": {},
          "execution_count": 29
        },
        {
          "output_type": "display_data",
          "data": {
            "image/png": "[encoded data removed]",
            "text/plain": [
              "<Figure size 360x360 with 1 Axes>"
            ]
          },
          "metadata": {
            "needs_background": "light"
          }
        }
      ],
      "metadata": {
        "colab": {
          "base_uri": "https://localhost:8080/",
          "height": 403
        },
        "id": "H31vYCu2fqMl",
        "outputId": "16833fec-2f77-49ea-b354-e44d824553f3"
      }
    },
    {
      "cell_type": "markdown",
      "source": [
        "### 4. Which player has won most number of medals? (Top 5)"
      ],
      "metadata": {
        "id": "Izhy-XvffqMl"
      }
    },
    {
      "cell_type": "code",
      "execution_count": 30,
      "source": [
        "data = []\r\n",
        "for player in df['Athlete'].unique():\r\n",
        "  data.append([player , len(df[df['Athlete'] == player])])\r\n",
        "pd.DataFrame(data,columns = ['Athlete','freq']).sort_values(by='freq', ascending=False).head().plot(x = 'Athlete', y = 'freq', kind = 'bar', figsize = (5,5))"
      ],
      "outputs": [
        {
          "output_type": "execute_result",
          "data": {
            "text/plain": [
              "<matplotlib.axes._subplots.AxesSubplot at 0x7f09b2ce4490>"
            ]
          },
          "metadata": {},
          "execution_count": 30
        },
        {
          "output_type": "display_data",
          "data": {
            "image/png": "[encoded data removed]",
            "text/plain": [
              "<Figure size 360x360 with 1 Axes>"
            ]
          },
          "metadata": {
            "needs_background": "light"
          }
        }
      ],
      "metadata": {
        "colab": {
          "base_uri": "https://localhost:8080/",
          "height": 462
        },
        "id": "SN9OgXLQfqMm",
        "outputId": "3c84ad15-4764-4e5e-d9df-b52716219ba6"
      }
    },
    {
      "cell_type": "markdown",
      "source": [
        "### 5. Which player has won most number Gold Medals of medals? (Top 5)"
      ],
      "metadata": {
        "id": "8YS8xfhpfqMm"
      }
    },
    {
      "cell_type": "code",
      "execution_count": 31,
      "source": [
        "golds = df[df['Medal']  == 'Gold']\r\n",
        "data = []\r\n",
        "for player in golds['Athlete'].unique():\r\n",
        "  data.append([player , len(golds[golds['Athlete'] == player])])\r\n",
        "pd.DataFrame(data,columns = ['Athlete','freq']).sort_values(by='freq', ascending=False).head().plot(x = 'Athlete', y = 'freq', kind = 'bar', figsize = (5,5))"
      ],
      "outputs": [
        {
          "output_type": "execute_result",
          "data": {
            "text/plain": [
              "<matplotlib.axes._subplots.AxesSubplot at 0x7f09b29ea850>"
            ]
          },
          "metadata": {},
          "execution_count": 31
        },
        {
          "output_type": "display_data",
          "data": {
            "image/png": "[encoded data removed]",
            "text/plain": [
              "<Figure size 360x360 with 1 Axes>"
            ]
          },
          "metadata": {
            "needs_background": "light"
          }
        }
      ],
      "metadata": {
        "colab": {
          "base_uri": "https://localhost:8080/",
          "height": 430
        },
        "id": "vrimcljDfqMm",
        "outputId": "0008b229-b4cc-4dd2-9a4b-49ff0fe361eb"
      }
    },
    {
      "cell_type": "markdown",
      "source": [
        "### 6. In which year India won first Gold Medal in Summer Olympics?"
      ],
      "metadata": {
        "id": "hFIWRJKJfqMm"
      }
    },
    {
      "cell_type": "code",
      "execution_count": 32,
      "source": [
        "country = df[df['Country'] == 'IND']\r\n",
        "golds = country[country['Medal']  == 'Gold']\r\n",
        "golds['Year'].min()"
      ],
      "outputs": [
        {
          "output_type": "execute_result",
          "data": {
            "text/plain": [
              "1928"
            ]
          },
          "metadata": {},
          "execution_count": 32
        }
      ],
      "metadata": {
        "colab": {
          "base_uri": "https://localhost:8080/"
        },
        "id": "6n6AZO5NfqMm",
        "outputId": "f07b7bd9-b3b7-48a1-b851-115bb371cd4f"
      }
    },
    {
      "cell_type": "markdown",
      "source": [
        "### 7. Which event is most popular in terms on number of players? (Top 5)"
      ],
      "metadata": {
        "id": "iZ51WKmffqMn"
      }
    },
    {
      "cell_type": "code",
      "execution_count": 33,
      "source": [
        "data = []\r\n",
        "for event in df['Event'].unique():\r\n",
        "  data.append([event , len(df[df['Event'] == event])])\r\n",
        "pd.DataFrame(data,columns = ['Event','freq']).sort_values(by='freq', ascending=False).head().plot(x = 'Event', y = 'freq', kind = 'bar', figsize = (5,5))"
      ],
      "outputs": [
        {
          "output_type": "execute_result",
          "data": {
            "text/plain": [
              "<matplotlib.axes._subplots.AxesSubplot at 0x7f09b29f2d10>"
            ]
          },
          "metadata": {},
          "execution_count": 33
        },
        {
          "output_type": "display_data",
          "data": {
            "image/png": "[encoded data removed]",
            "text/plain": [
              "<Figure size 360x360 with 1 Axes>"
            ]
          },
          "metadata": {
            "needs_background": "light"
          }
        }
      ],
      "metadata": {
        "colab": {
          "base_uri": "https://localhost:8080/",
          "height": 436
        },
        "id": "CDFNN3FJSFsF",
        "outputId": "8080d87e-be04-4c34-f788-e54254e5c10c"
      }
    },
    {
      "cell_type": "markdown",
      "source": [
        "### 8. Which sport is having most female Gold Medalists? (Top 5)"
      ],
      "metadata": {
        "id": "25aW_oCIfqMn"
      }
    },
    {
      "cell_type": "code",
      "execution_count": 34,
      "source": [
        "gender = df[df['Gender'] == 'Women']\r\n",
        "gold_medals = gender[gender['Medal']=='Gold']\r\n",
        "data = []\r\n",
        "for sport in gold_medals['Sport'].unique():\r\n",
        "  data.append([sport , len(gold_medals[gold_medals['Sport']==sport])])\r\n",
        "pd.DataFrame(data,columns = ['Sport','freq']).sort_values(by='freq', ascending=False).head().plot(x = 'Sport', y = 'freq', kind = 'bar', figsize = (5,5))"
      ],
      "outputs": [
        {
          "output_type": "execute_result",
          "data": {
            "text/plain": [
              "<matplotlib.axes._subplots.AxesSubplot at 0x7f09b2905350>"
            ]
          },
          "metadata": {},
          "execution_count": 34
        },
        {
          "output_type": "display_data",
          "data": {
            "image/png": "[encoded data removed]",
            "text/plain": [
              "<Figure size 360x360 with 1 Axes>"
            ]
          },
          "metadata": {
            "needs_background": "light"
          }
        }
      ],
      "metadata": {
        "colab": {
          "base_uri": "https://localhost:8080/",
          "height": 403
        },
        "id": "GV6DYNJLfqMo",
        "outputId": "67281972-8b0e-476e-a758-989e8f2e515b"
      }
    }
  ]
}