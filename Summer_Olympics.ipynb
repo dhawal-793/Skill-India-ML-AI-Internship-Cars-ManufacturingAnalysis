{
  "nbformat": 4,
  "nbformat_minor": 0,
  "metadata": {
    "kernelspec": {
      "display_name": "Python 2",
      "language": "python",
      "name": "python2"
    },
    "language_info": {
      "codemirror_mode": {
        "name": "ipython",
        "version": 2
      },
      "file_extension": ".py",
      "mimetype": "text/x-python",
      "name": "python",
      "nbconvert_exporter": "python",
      "pygments_lexer": "ipython2",
      "version": "2.7.16"
    },
    "colab": {
      "name": "Summer Olympics.ipynb",
      "provenance": []
    }
  },
  "cells": [
    {
      "cell_type": "markdown",
      "metadata": {
        "id": "InnWJ_CnfqMh"
      },
      "source": [
        "# Summer Olympics Data Analysis Assignment"
      ]
    },
    {
      "cell_type": "code",
      "metadata": {
        "id": "XImyUpvIfqMk"
      },
      "source": [
        "import pandas as pd\n",
        "# import numpy as np\n",
        "# import matplotlib.pyplot as plt"
      ],
      "execution_count": 1,
      "outputs": []
    },
    {
      "cell_type": "code",
      "metadata": {
        "id": "UtW4v7kLgggt"
      },
      "source": [
        "df = pd.read_csv(\"summer.csv\")\n",
        "df.head()\n",
        "del df['Discipline']"
      ],
      "execution_count": 2,
      "outputs": []
    },
    {
      "cell_type": "code",
      "metadata": {
        "id": "oz6oBh_-HJhy"
      },
      "source": [
        "df.head()"
      ],
      "execution_count": null,
      "outputs": []
    },
    {
      "cell_type": "markdown",
      "metadata": {
        "id": "wPhFs-n4fqMj"
      },
      "source": [
        "### Q1. In how many cities Summer Olympics is held so far?"
      ]
    },
    {
      "cell_type": "code",
      "metadata": {
        "colab": {
          "base_uri": "https://localhost:8080/"
        },
        "id": "LnrUi5AFg0fY",
        "outputId": "306441ec-6f3b-4d32-bd42-01c7a4624748"
      },
      "source": [
        "len(df['City'].unique())"
      ],
      "execution_count": 3,
      "outputs": [
        {
          "output_type": "execute_result",
          "data": {
            "text/plain": [
              "22"
            ]
          },
          "metadata": {},
          "execution_count": 3
        }
      ]
    },
    {
      "cell_type": "markdown",
      "metadata": {
        "id": "b1roU7u5fqMk"
      },
      "source": [
        "### Q2. Which sport is having most number of Gold Medals so far? (Top 5)"
      ]
    },
    {
      "cell_type": "markdown",
      "metadata": {
        "id": "MdLQ7N5HD_bm"
      },
      "source": [
        "***First Approach***"
      ]
    },
    {
      "cell_type": "code",
      "metadata": {
        "colab": {
          "base_uri": "https://localhost:8080/",
          "height": 403
        },
        "id": "tobbTymDD-PW",
        "outputId": "fe93ce72-1c6e-47a7-f669-3f536bbb39bf"
      },
      "source": [
        "df[df['Medal']=='Gold'].groupby('Sport').count()['Medal'].sort_values(ascending=False).head().plot.bar(figsize = (5,5))"
      ],
      "execution_count": 4,
      "outputs": [
        {
          "output_type": "execute_result",
          "data": {
            "text/plain": [
              "<matplotlib.axes._subplots.AxesSubplot at 0x7fb71438b810>"
            ]
          },
          "metadata": {},
          "execution_count": 4
        },
        {
          "output_type": "display_data",
          "data": {
            "image/png": "[encoded data removed]",
            "text/plain": [
              "<Figure size 360x360 with 1 Axes>"
            ]
          },
          "metadata": {
            "needs_background": "light"
          }
        }
      ]
    },
    {
      "cell_type": "markdown",
      "metadata": {
        "id": "agJzlj6HEqt4"
      },
      "source": [
        "***Second Approach***"
      ]
    },
    {
      "cell_type": "code",
      "metadata": {
        "colab": {
          "base_uri": "https://localhost:8080/",
          "height": 403
        },
        "id": "JrxtdKwrxQgh",
        "outputId": "4e0eb28c-8d7a-462d-ca03-49a190def229"
      },
      "source": [
        "golds = df[df['Medal']  == 'Gold']\n",
        "data1 = []\n",
        "for sport in golds['Sport'].unique():\n",
        "  data1.append([sport , len(golds[golds['Sport']==sport])])\n",
        "pd.DataFrame(data1,columns = ['Sport','freq']).sort_values(by='freq', ascending=False).head().plot(x = 'Sport', y = 'freq', kind = 'bar', figsize = (5,5))"
      ],
      "execution_count": 5,
      "outputs": [
        {
          "output_type": "execute_result",
          "data": {
            "text/plain": [
              "<matplotlib.axes._subplots.AxesSubplot at 0x7fb7122e8b90>"
            ]
          },
          "metadata": {},
          "execution_count": 5
        },
        {
          "output_type": "display_data",
          "data": {
            "image/png": "[encoded data removed]",
            "text/plain": [
              "<Figure size 360x360 with 1 Axes>"
            ]
          },
          "metadata": {
            "needs_background": "light"
          }
        }
      ]
    },
    {
      "cell_type": "markdown",
      "metadata": {
        "id": "VZysyf0qfqMl"
      },
      "source": [
        "### Q3. Which sport is having most number of medals so far? (Top 5)"
      ]
    },
    {
      "cell_type": "markdown",
      "metadata": {
        "id": "lJJfLe-hFFjw"
      },
      "source": [
        "***First Approach***"
      ]
    },
    {
      "cell_type": "code",
      "metadata": {
        "colab": {
          "base_uri": "https://localhost:8080/",
          "height": 403
        },
        "id": "7P3P-chJFNl3",
        "outputId": "ae0d01c6-1ce3-4f64-9334-c4d94bbbd257"
      },
      "source": [
        "df.groupby(\"Sport\").count()['Medal'].sort_values(ascending=False).head().plot.bar(figsize = (5,5))"
      ],
      "execution_count": 6,
      "outputs": [
        {
          "output_type": "execute_result",
          "data": {
            "text/plain": [
              "<matplotlib.axes._subplots.AxesSubplot at 0x7fb71450fb90>"
            ]
          },
          "metadata": {},
          "execution_count": 6
        },
        {
          "output_type": "display_data",
          "data": {
            "image/png": "[encoded data removed]",
            "text/plain": [
              "<Figure size 360x360 with 1 Axes>"
            ]
          },
          "metadata": {
            "needs_background": "light"
          }
        }
      ]
    },
    {
      "cell_type": "markdown",
      "metadata": {
        "id": "4jucRba7FMdU"
      },
      "source": [
        "***Second Approach***"
      ]
    },
    {
      "cell_type": "code",
      "metadata": {
        "colab": {
          "base_uri": "https://localhost:8080/",
          "height": 403
        },
        "id": "H31vYCu2fqMl",
        "outputId": "02940a97-72cf-4cc8-a731-bc8b0ec943fc"
      },
      "source": [
        "data2 = []\n",
        "for sport in df['Sport'].unique():\n",
        "  data2.append([sport , len(df[df['Sport'] == sport])])\n",
        "pd.DataFrame(data2,columns = ['Sport','freq']).sort_values(by='freq', ascending=False).head().plot(x = 'Sport', y = 'freq', kind = 'bar', figsize = (5,5))"
      ],
      "execution_count": 7,
      "outputs": [
        {
          "output_type": "execute_result",
          "data": {
            "text/plain": [
              "<matplotlib.axes._subplots.AxesSubplot at 0x7fb712143990>"
            ]
          },
          "metadata": {},
          "execution_count": 7
        },
        {
          "output_type": "display_data",
          "data": {
            "image/png": "[encoded data removed]",
            "text/plain": [
              "<Figure size 360x360 with 1 Axes>"
            ]
          },
          "metadata": {
            "needs_background": "light"
          }
        }
      ]
    },
    {
      "cell_type": "markdown",
      "metadata": {
        "id": "Izhy-XvffqMl"
      },
      "source": [
        "### Q4. Which player has won most number of medals? (Top 5)"
      ]
    },
    {
      "cell_type": "markdown",
      "metadata": {
        "id": "BHXfd2ApFQBW"
      },
      "source": [
        "***First Approach***"
      ]
    },
    {
      "cell_type": "code",
      "metadata": {
        "id": "AqDVBectFRWA",
        "colab": {
          "base_uri": "https://localhost:8080/",
          "height": 462
        },
        "outputId": "7af33374-b835-4216-d96e-19dba46dfb39"
      },
      "source": [
        "df.groupby(\"Athlete\").count()[\"Medal\"].sort_values(ascending=False).head().plot.bar(figsize = (5,5))"
      ],
      "execution_count": 8,
      "outputs": [
        {
          "output_type": "execute_result",
          "data": {
            "text/plain": [
              "<matplotlib.axes._subplots.AxesSubplot at 0x7fb71212df50>"
            ]
          },
          "metadata": {},
          "execution_count": 8
        },
        {
          "output_type": "display_data",
          "data": {
            "image/png": "[encoded data removed]",
            "text/plain": [
              "<Figure size 360x360 with 1 Axes>"
            ]
          },
          "metadata": {
            "needs_background": "light"
          }
        }
      ]
    },
    {
      "cell_type": "markdown",
      "metadata": {
        "id": "h1w0EJa1FQsv"
      },
      "source": [
        "***Second Approach***"
      ]
    },
    {
      "cell_type": "code",
      "metadata": {
        "id": "SN9OgXLQfqMm"
      },
      "source": [
        "data3 = []\n",
        "for player in df['Athlete'].unique():\n",
        "  data3.append([player , len(df[df['Athlete'] == player])])\n",
        "pd.DataFrame(data3,columns = ['Athlete','freq']).sort_values(by='freq', ascending=False).head().plot(x = 'Athlete', y = 'freq', kind = 'bar', figsize = (5,5))"
      ],
      "execution_count": null,
      "outputs": []
    },
    {
      "cell_type": "markdown",
      "metadata": {
        "id": "8YS8xfhpfqMm"
      },
      "source": [
        "### Q5. Which player has won most number Gold Medals of medals? (Top 5)"
      ]
    },
    {
      "cell_type": "markdown",
      "metadata": {
        "id": "sbWfIRTPFSgo"
      },
      "source": [
        "***First Approach***"
      ]
    },
    {
      "cell_type": "code",
      "metadata": {
        "id": "QTOYn5rpFT35"
      },
      "source": [
        "df[df[\"Medal\"]==\"Gold\"].groupby(\"Athlete\").count()[\"Medal\"].sort_values(ascending=False).head().plot.bar(figsize = (5,5))"
      ],
      "execution_count": null,
      "outputs": []
    },
    {
      "cell_type": "markdown",
      "metadata": {
        "id": "3cas_dpTFTTp"
      },
      "source": [
        "***Second Approach***"
      ]
    },
    {
      "cell_type": "code",
      "metadata": {
        "id": "vrimcljDfqMm"
      },
      "source": [
        "golds = df[df['Medal']  == 'Gold']\n",
        "data4 = []\n",
        "for player in golds['Athlete'].unique():\n",
        "  data4.append([player , len(golds[golds['Athlete'] == player])])\n",
        "pd.DataFrame(data4,columns = ['Athlete','freq']).sort_values(by='freq', ascending=False).head().plot(x = 'Athlete', y = 'freq', kind = 'bar', figsize = (5,5))"
      ],
      "execution_count": null,
      "outputs": []
    },
    {
      "cell_type": "markdown",
      "metadata": {
        "id": "hFIWRJKJfqMm"
      },
      "source": [
        "### Q6. In which year India won first Gold Medal in Summer Olympics?"
      ]
    },
    {
      "cell_type": "code",
      "metadata": {
        "id": "6n6AZO5NfqMm"
      },
      "source": [
        "country = df[df['Country'] == 'IND']\n",
        "golds = country[country['Medal']  == 'Gold']\n",
        "golds['Year'].min()"
      ],
      "execution_count": null,
      "outputs": []
    },
    {
      "cell_type": "markdown",
      "metadata": {
        "id": "iZ51WKmffqMn"
      },
      "source": [
        "### 7. Which event is most popular in terms on number of players? (Top 5)"
      ]
    },
    {
      "cell_type": "markdown",
      "metadata": {
        "id": "N8XzKzFpFVhL"
      },
      "source": [
        "***First Approach***"
      ]
    },
    {
      "cell_type": "code",
      "metadata": {
        "id": "X2BkaQiOFW1z"
      },
      "source": [
        "df.groupby(\"Event\").count()[\"Athlete\"].sort_values(ascending=False).head().plot.bar(figsize = (5,5))"
      ],
      "execution_count": null,
      "outputs": []
    },
    {
      "cell_type": "markdown",
      "metadata": {
        "id": "AHumynL8FWMg"
      },
      "source": [
        "***Second Approach***"
      ]
    },
    {
      "cell_type": "code",
      "metadata": {
        "id": "CDFNN3FJSFsF"
      },
      "source": [
        "data5 = []\n",
        "for event in df['Event'].unique():\n",
        "  data5.append([event , len(df[df['Event'] == event])])\n",
        "pd.DataFrame(data5,columns = ['Event','freq']).sort_values(by='freq', ascending=False).head().plot(x = 'Event', y = 'freq', kind = 'bar', figsize = (5,5))"
      ],
      "execution_count": null,
      "outputs": []
    },
    {
      "cell_type": "markdown",
      "metadata": {
        "id": "25aW_oCIfqMn"
      },
      "source": [
        "### 8. Which sport is having most female Gold Medalists? (Top 5)"
      ]
    },
    {
      "cell_type": "code",
      "metadata": {
        "id": "GV6DYNJLfqMo"
      },
      "source": [
        "gender = df[df['Gender'] == 'Women']\n",
        "gold_medals = gender[gender['Medal']=='Gold']\n",
        "data6 = []\n",
        "for sport in gold_medals['Sport'].unique():\n",
        "  data6.append([sport , len(gold_medals[gold_medals['Sport']==sport])])\n",
        "pd.DataFrame(data6,columns = ['Sport','freq']).sort_values(by='freq', ascending=False).head().plot(x = 'Sport', y = 'freq', kind = 'bar', figsize = (5,5))"
      ],
      "execution_count": null,
      "outputs": []
    }
  ]
}